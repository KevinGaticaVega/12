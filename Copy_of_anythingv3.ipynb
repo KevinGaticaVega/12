{
  "nbformat": 4,
  "nbformat_minor": 0,
  "metadata": {
    "colab": {
      "provenance": [],
      "include_colab_link": true
    },
    "kernelspec": {
      "name": "python3",
      "display_name": "Python 3"
    },
    "language_info": {
      "name": "python"
    },
    "accelerator": "GPU",
    "gpuClass": "standard"
  },
  "cells": [
    {
      "cell_type": "markdown",
      "metadata": {
        "id": "view-in-github",
        "colab_type": "text"
      },
      "source": [
        "<a href=\"https://colab.research.google.com/github/KevinGaticaVega/12/blob/main/Copy_of_anythingv3.ipynb\" target=\"_parent\"><img src=\"https://colab.research.google.com/assets/colab-badge.svg\" alt=\"Open In Colab\"/></a>"
      ]
    },
    {
      "cell_type": "code",
      "source": [
        "!git clone https://github.com/AUTOMATIC1111/stable-diffusion-webui\n",
        "%pip install -q https://github.com/nolanaatama/xformers-wheels/releases/download/xformers/xformers-0.0.15.dev0+4c06c79.d20221205-cp38-cp38-linux_x86_64.whl\n",
        "!curl -Lo anythingv3.ckpt https://huggingface.co/Linaqruf/anything-v3.0/resolve/main/Anything-V3.0-pruned-fp32.ckpt\n",
        "!curl -Lo anythingv3.vae.pt https://huggingface.co/Linaqruf/anything-v3.0/resolve/main/Anything-V3.0.vae.pt\n",
        "!mv \"/content/anythingv3.ckpt\" \"/content/stable-diffusion-webui/models/Stable-diffusion\"\n",
        "!mv \"/content/anythingv3.vae.pt\" \"/content/stable-diffusion-webui/models/Stable-diffusion\"\n",
        "%cd /content/stable-diffusion-webui\n",
        "!COMMANDLINE_ARGS=\"--share --gradio-debug --medvram --disable-safe-unpickle --xformers\" REQS_FILE=\"requirements.txt\" python launch.py"
      ],
      "metadata": {
        "id": "sBbcB4vwj_jm",
        "colab": {
          "base_uri": "https://localhost:8080/"
        },
        "outputId": "b4a2ae67-77dc-4cc7-da97-315039cd9808"
      },
      "execution_count": 2,
      "outputs": [
        {
          "output_type": "stream",
          "name": "stdout",
          "text": [
            "Cloning into 'stable-diffusion-webui'...\n",
            "remote: Enumerating objects: 12629, done.\u001b[K\n",
            "remote: Counting objects: 100% (4/4), done.\u001b[K\n",
            "remote: Compressing objects: 100% (4/4), done.\u001b[K\n",
            "remote: Total 12629 (delta 0), reused 0 (delta 0), pack-reused 12625\u001b[K\n",
            "Receiving objects: 100% (12629/12629), 24.68 MiB | 21.01 MiB/s, done.\n",
            "Resolving deltas: 100% (8826/8826), done.\n",
            "\u001b[K     |████████████████████████████████| 47.4 MB 1.6 MB/s \n",
            "\u001b[?25h  % Total    % Received % Xferd  Average Speed   Time    Time     Time  Current\n",
            "                                 Dload  Upload   Total   Spent    Left  Speed\n",
            "100  1167  100  1167    0     0   3007      0 --:--:-- --:--:-- --:--:--  3000\n",
            "100 4067M  100 4067M    0     0   194M      0  0:00:20  0:00:20 --:--:--  189M\n",
            "  % Total    % Received % Xferd  Average Speed   Time    Time     Time  Current\n",
            "                                 Dload  Upload   Total   Spent    Left  Speed\n",
            "100  1145  100  1145    0     0   3162      0 --:--:-- --:--:-- --:--:--  3154\n",
            "100  784M  100  784M    0     0   142M      0  0:00:05  0:00:05 --:--:--  140M\n",
            "mv: cannot stat '/content/anythingv3.ckpt': No such file or directory\n",
            "mv: cannot stat '/content/anythingv3.vae.pt': No such file or directory\n",
            "/content/stable-diffusion-webui\n",
            "Python 3.8.16 (default, Dec  7 2022, 01:12:13) \n",
            "[GCC 7.5.0]\n",
            "Commit hash: 4af3ca5393151d61363c30eef4965e694eeac15e\n",
            "Traceback (most recent call last):\n",
            "  File \"launch.py\", line 294, in <module>\n",
            "    prepare_environment()\n",
            "  File \"launch.py\", line 209, in prepare_environment\n",
            "    run_python(\"import torch; assert torch.cuda.is_available(), 'Torch is not able to use GPU; add --skip-torch-cuda-test to COMMANDLINE_ARGS variable to disable this check'\")\n",
            "  File \"launch.py\", line 73, in run_python\n",
            "    return run(f'\"{python}\" -c \"{code}\"', desc, errdesc)\n",
            "  File \"launch.py\", line 49, in run\n",
            "    raise RuntimeError(message)\n",
            "RuntimeError: Error running command.\n",
            "Command: \"/usr/bin/python3\" -c \"import torch; assert torch.cuda.is_available(), 'Torch is not able to use GPU; add --skip-torch-cuda-test to COMMANDLINE_ARGS variable to disable this check'\"\n",
            "Error code: 1\n",
            "stdout: <empty>\n",
            "stderr: Traceback (most recent call last):\n",
            "  File \"<string>\", line 1, in <module>\n",
            "AssertionError: Torch is not able to use GPU; add --skip-torch-cuda-test to COMMANDLINE_ARGS variable to disable this check\n",
            "\n",
            "\n"
          ]
        }
      ]
    },
    {
      "cell_type": "markdown",
      "metadata": {
        "id": "fhwIXzcgfkoR"
      },
      "source": [
        "# 📚 GitHub for more: [_@nolanaatama_](https://github.com/nolanaatama)\n",
        "# 📦 Repo: [Github](https://github.com/nolanaatama/sd-anythingv3-colab)"
      ]
    }
  ]
}